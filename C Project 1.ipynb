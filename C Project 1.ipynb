{
 "cells": [
  {
   "cell_type": "markdown",
   "id": "6ed57793",
   "metadata": {},
   "source": [
    "# C ProjectⅠReport"
   ]
  },
  {
   "cell_type": "markdown",
   "id": "03e8aa54",
   "metadata": {},
   "source": [
    "Instructor: Yu Shiqi\n"
   ]
  },
  {
   "cell_type": "markdown",
   "id": "5c647195",
   "metadata": {},
   "source": [
    "reporter: Li Han"
   ]
  },
  {
   "cell_type": "markdown",
   "id": "3c92a8ca",
   "metadata": {},
   "source": [
    "## Part Ⅰ: the source code"
   ]
  },
  {
   "cell_type": "markdown",
   "id": "7dbc80cd",
   "metadata": {},
   "source": [
    "The concept of the calculator I designed is: __sacrifice performance for high accuracy.__ \n",
    "\n",
    "Because for the performance of modern computers, even if a calculator is poorly optimized, it can complete the calculation in a very short time. Moreover, the accuracy requirements of mathematical calculations are becoming higher and higher, and small differences in numbers will lead to huge differences in results."
   ]
  },
  {
   "cell_type": "markdown",
   "id": "28684000",
   "metadata": {},
   "source": [
    "[click here to see the source code](https://github.com/creegon/Cproject1/blob/master/calculation.c)"
   ]
  },
  {
   "cell_type": "markdown",
   "id": "c99d38a8",
   "metadata": {},
   "source": [
    "## Part II: Some calculation results"
   ]
  },
  {
   "cell_type": "markdown",
   "id": "f101906c",
   "metadata": {},
   "source": [
    "In this part, I will verify the accuracy of my calculator by using 6-9 practical examples of the four parts of addition, subtraction, multiplication and division. I will discuss some special cases separately."
   ]
  },
  {
   "cell_type": "markdown",
   "id": "bc93a623",
   "metadata": {},
   "source": [
    "### 1. Verification of addition"
   ]
  },
  {
   "cell_type": "markdown",
   "id": "44b52c9d",
   "metadata": {},
   "source": [
    "#### 1.1 Two integers within the int range:"
   ]
  },
  {
   "cell_type": "markdown",
   "id": "9e8038ef",
   "metadata": {},
   "source": [
    "Input number 1: 114514   \n",
    "Input number 2: 1919810  \n",
    "Output number: 2034324"
   ]
  },
  {
   "cell_type": "markdown",
   "id": "dd0b7321",
   "metadata": {},
   "source": [
    "![](https://s2.loli.net/2023/02/27/BVUImkfS2z3TpPO.png)"
   ]
  },
  {
   "cell_type": "markdown",
   "id": "2b8abca8",
   "metadata": {},
   "source": [
    "#### 1.2 Two integers outside the int range:"
   ]
  },
  {
   "cell_type": "markdown",
   "id": "98bfe4ad",
   "metadata": {},
   "source": [
    "Input number 1: 1145141919810   \n",
    "Input number 2: 520131488886  \n",
    "Output number: 1665273408696"
   ]
  },
  {
   "cell_type": "markdown",
   "id": "0c841f02",
   "metadata": {},
   "source": [
    "![](https://s2.loli.net/2023/02/27/oGFpAHIiUu7Q6ZR.png)"
   ]
  },
  {
   "cell_type": "markdown",
   "id": "e29fde2e",
   "metadata": {},
   "source": [
    "#### 1.3 Two decimals with the same symbol:"
   ]
  },
  {
   "cell_type": "markdown",
   "id": "015ed5f2",
   "metadata": {},
   "source": [
    "Input number 1: 1145141919810.12345   \n",
    "Input number 2: 520131488886.1919810  \n",
    "Output number: 1665273408696.3154310"
   ]
  },
  {
   "cell_type": "markdown",
   "id": "b0eaf83e",
   "metadata": {},
   "source": [
    "![](https://s2.loli.net/2023/02/27/VThcZNyjYWUEFpa.png)"
   ]
  },
  {
   "cell_type": "markdown",
   "id": "2727110b",
   "metadata": {},
   "source": [
    "#### 1.4 Two decimals with different symbols:"
   ]
  },
  {
   "cell_type": "markdown",
   "id": "27d36137",
   "metadata": {},
   "source": [
    "Input number 1: 1145141919810.12345   \n",
    "Input number 2: -520131488886.1919810  \n",
    "Output number: 3625010430923.9314690"
   ]
  },
  {
   "cell_type": "markdown",
   "id": "965615e6",
   "metadata": {},
   "source": [
    "![](https://s2.loli.net/2023/02/27/Yl25KW6a4BR9bTu.png)"
   ]
  },
  {
   "cell_type": "markdown",
   "id": "0ce6992b",
   "metadata": {},
   "source": [
    "#### 1.5 Two integers that are both negative:"
   ]
  },
  {
   "cell_type": "markdown",
   "id": "980282c1",
   "metadata": {},
   "source": [
    "Input number 1: -11451419198105   \n",
    "Input number 2: -5201314888886  \n",
    "Output number: -16652734086991"
   ]
  },
  {
   "cell_type": "markdown",
   "id": "b3c24b1c",
   "metadata": {},
   "source": [
    "![](https://s2.loli.net/2023/02/27/QMsiZPYzC1Ulb6d.png)"
   ]
  },
  {
   "cell_type": "markdown",
   "id": "f390266c",
   "metadata": {},
   "source": [
    "#### 1.6 One integer and one decimal:"
   ]
  },
  {
   "cell_type": "markdown",
   "id": "b43b18ac",
   "metadata": {},
   "source": [
    "Input number 1: 1314   \n",
    "Input number 2: 520.1314  \n",
    "Output number: 1834.1314"
   ]
  },
  {
   "cell_type": "markdown",
   "id": "69d4cc80",
   "metadata": {},
   "source": [
    "![](https://s2.loli.net/2023/03/04/aA9GIrinLd8t741.png)"
   ]
  },
  {
   "cell_type": "markdown",
   "id": "d114541d",
   "metadata": {},
   "source": [
    "#### 1.7 Two integers of Scientific notation:"
   ]
  },
  {
   "cell_type": "markdown",
   "id": "df82e395",
   "metadata": {},
   "source": [
    "Input number 1: 1314E100   \n",
    "Input number 2: 333E102  \n",
    "Output number: 346.14E102"
   ]
  },
  {
   "cell_type": "markdown",
   "id": "44d93ee5",
   "metadata": {},
   "source": [
    "![](https://s2.loli.net/2023/03/04/VidIfwMeJpWFrOB.png)"
   ]
  },
  {
   "cell_type": "markdown",
   "id": "3a67a445",
   "metadata": {},
   "source": [
    "#### 1.8 One integer and one decimals of Scientific notation:"
   ]
  },
  {
   "cell_type": "markdown",
   "id": "9d23e15b",
   "metadata": {},
   "source": [
    "Input number 1: 1314E100   \n",
    "Input number 2: 3.343E102  \n",
    "Output number: 16.483E102"
   ]
  },
  {
   "cell_type": "markdown",
   "id": "e69e8e5f",
   "metadata": {},
   "source": [
    "![](https://s2.loli.net/2023/03/04/4z3TiOeP9v8hbg7.png)"
   ]
  },
  {
   "cell_type": "markdown",
   "id": "8da4936c",
   "metadata": {},
   "source": [
    "### 2.Verification of subtraction:"
   ]
  },
  {
   "cell_type": "markdown",
   "id": "71ce0109",
   "metadata": {},
   "source": [
    "#### 2.1 Two integers within the int range:"
   ]
  },
  {
   "cell_type": "markdown",
   "id": "09f2e9fb",
   "metadata": {},
   "source": [
    "Input number 1: 121314   \n",
    "Input number 2: 666  \n",
    "Output number: 120648"
   ]
  },
  {
   "cell_type": "markdown",
   "id": "e016735b",
   "metadata": {},
   "source": [
    "![](https://s2.loli.net/2023/02/27/rvHScL6qUF7Cs8T.png)"
   ]
  },
  {
   "cell_type": "markdown",
   "id": "09a114ab",
   "metadata": {},
   "source": [
    "#### 2.2 Two integers outside the int range:"
   ]
  },
  {
   "cell_type": "markdown",
   "id": "221ef08e",
   "metadata": {},
   "source": [
    "Input number 1: 1145141919810   \n",
    "Input number 2: 66666677777777  \n",
    "Output number: -65521535857967"
   ]
  },
  {
   "cell_type": "markdown",
   "id": "c27d61b0",
   "metadata": {},
   "source": [
    "![](https://s2.loli.net/2023/02/27/Pr2ES1FjXJthpiU.png)"
   ]
  },
  {
   "cell_type": "markdown",
   "id": "d319f851",
   "metadata": {},
   "source": [
    "#### 2.3 Two decimals with the same symbol:"
   ]
  },
  {
   "cell_type": "markdown",
   "id": "662fce46",
   "metadata": {},
   "source": [
    "Input number 1: 114514191981.404444   \n",
    "Input number 2: 66666677777777.69825634  \n",
    "Output number: -66552163585796.29381234"
   ]
  },
  {
   "cell_type": "markdown",
   "id": "fa930133",
   "metadata": {},
   "source": [
    "![](https://s2.loli.net/2023/02/27/7P3HtvFb29USaye.png)"
   ]
  },
  {
   "cell_type": "markdown",
   "id": "c68b1590",
   "metadata": {},
   "source": [
    "#### 2.4 Two decimals with different symbols:"
   ]
  },
  {
   "cell_type": "markdown",
   "id": "2cfb23e6",
   "metadata": {},
   "source": [
    "Input number 1: 114514191981.404444  \n",
    "Input number 2: -6666666666666666666666777777.69825634  \n",
    "Output number: 6666666666666666781180969759.10270034"
   ]
  },
  {
   "cell_type": "markdown",
   "id": "c0feb99e",
   "metadata": {},
   "source": [
    "![](https://s2.loli.net/2023/02/27/Il4S8LuKQqpNyXf.png)"
   ]
  },
  {
   "cell_type": "markdown",
   "id": "d5060fab",
   "metadata": {},
   "source": [
    "#### 2.5 Two integers that are both negative:"
   ]
  },
  {
   "cell_type": "markdown",
   "id": "2024d768",
   "metadata": {},
   "source": [
    "Input number 1: -16749873423423   \n",
    "Input number 2: -423647234234  \n",
    "Output number: -16326226189189"
   ]
  },
  {
   "cell_type": "markdown",
   "id": "0e561fe8",
   "metadata": {},
   "source": [
    "![](https://s2.loli.net/2023/02/27/WPLy8uMbtjEfpgX.png)"
   ]
  },
  {
   "cell_type": "markdown",
   "id": "87d40143",
   "metadata": {},
   "source": [
    "#### 2.6 Two integers of Scientific notation:"
   ]
  },
  {
   "cell_type": "markdown",
   "id": "3fc2b8ef",
   "metadata": {},
   "source": [
    "Input number 1: 1314E100   \n",
    "Input number 2: 333E102  \n",
    "Output number: -319.86E102"
   ]
  },
  {
   "cell_type": "markdown",
   "id": "7af57558",
   "metadata": {},
   "source": [
    "![](https://s2.loli.net/2023/03/04/L6NUn98BIoqdtkK.png)"
   ]
  },
  {
   "cell_type": "markdown",
   "id": "a489eb3c",
   "metadata": {},
   "source": [
    "#### 2.7 One integer and one decimals of Scientific notation:"
   ]
  },
  {
   "cell_type": "markdown",
   "id": "ce082217",
   "metadata": {},
   "source": [
    "Input number 1: 1314E100   \n",
    "Input number 2: 3.343E102  \n",
    "Output number: 9.797E102"
   ]
  },
  {
   "cell_type": "markdown",
   "id": "9439c82f",
   "metadata": {},
   "source": [
    "![](https://s2.loli.net/2023/03/04/7DXdH9FWlvgcyMh.png)"
   ]
  },
  {
   "cell_type": "markdown",
   "id": "7dbd42a5",
   "metadata": {},
   "source": [
    "### 3.Verification of multiplication:"
   ]
  },
  {
   "cell_type": "markdown",
   "id": "a9a94dc7",
   "metadata": {},
   "source": [
    "I also encountered the problem that the qq group said: `*` cannot be recognized normally. I still can't by using the single quotation marks, so I use `^` instead."
   ]
  },
  {
   "cell_type": "markdown",
   "id": "4657ed56",
   "metadata": {},
   "source": [
    "#### 3.1 Two integers within the int range:"
   ]
  },
  {
   "cell_type": "markdown",
   "id": "c8c20b6b",
   "metadata": {},
   "source": [
    "Input number 1: 12345  \n",
    "Input number 2: 54321  \n",
    "Output number: 670592745"
   ]
  },
  {
   "cell_type": "markdown",
   "id": "a618028a",
   "metadata": {},
   "source": [
    "![](https://s2.loli.net/2023/02/27/XgvD89PFBeQHn1N.png)"
   ]
  },
  {
   "cell_type": "markdown",
   "id": "044c966b",
   "metadata": {},
   "source": [
    "#### 3.2 Two integers outside the int range:"
   ]
  },
  {
   "cell_type": "markdown",
   "id": "96bb781c",
   "metadata": {},
   "source": [
    "Input number 1: 123456789114   \n",
    "Input number 2: 98765432114  \n",
    "Output number: 12193263124251181206996"
   ]
  },
  {
   "cell_type": "markdown",
   "id": "b26a8e15",
   "metadata": {},
   "source": [
    "![](https://s2.loli.net/2023/02/27/BFTMQNLtRuDa31X.png)"
   ]
  },
  {
   "cell_type": "markdown",
   "id": "542e4b40",
   "metadata": {},
   "source": [
    "#### 3.3 Two decimals with the same symbol:"
   ]
  },
  {
   "cell_type": "markdown",
   "id": "a9a036a3",
   "metadata": {},
   "source": [
    "Input number 1: 114514119.123456  \n",
    "Input number 2: 884888488848.666777  \n",
    "Output number: 101332225822991193572.025468621312"
   ]
  },
  {
   "cell_type": "markdown",
   "id": "80cefa42",
   "metadata": {},
   "source": [
    "![](https://s2.loli.net/2023/02/27/2BvrtzH3V6wDRxo.png)"
   ]
  },
  {
   "cell_type": "markdown",
   "id": "4a99bccb",
   "metadata": {},
   "source": [
    "#### 3.4 Two decimals with different symbols:"
   ]
  },
  {
   "cell_type": "markdown",
   "id": "470c58a6",
   "metadata": {},
   "source": [
    "Input number 1: 114514119.123456   \n",
    "Input number 2: -888488848.666777  \n",
    "Output number: -101744517856089572.025468621312"
   ]
  },
  {
   "cell_type": "markdown",
   "id": "e195bd63",
   "metadata": {},
   "source": [
    "![](https://s2.loli.net/2023/02/27/4x2bJkjHQuGgU7w.png)"
   ]
  },
  {
   "cell_type": "markdown",
   "id": "c4bb2b60",
   "metadata": {},
   "source": [
    "#### 3.5 Two integers that are both negative:"
   ]
  },
  {
   "cell_type": "markdown",
   "id": "1ed7a4dc",
   "metadata": {},
   "source": [
    "Input number 1: -12736813268  \n",
    "Input number 2: -12391237  \n",
    "Output number: 157824871828532516"
   ]
  },
  {
   "cell_type": "markdown",
   "id": "e410f52c",
   "metadata": {},
   "source": [
    "![](https://s2.loli.net/2023/02/27/rYDC59bkwNln86J.png)"
   ]
  },
  {
   "cell_type": "markdown",
   "id": "2fab5691",
   "metadata": {},
   "source": [
    "#### 3.6 One of the number is zero:"
   ]
  },
  {
   "cell_type": "markdown",
   "id": "e314b124",
   "metadata": {},
   "source": [
    "Input number 1: 12736813268   \n",
    "Input number 2: 0  \n",
    "Output number: 0"
   ]
  },
  {
   "cell_type": "markdown",
   "id": "36d866f4",
   "metadata": {},
   "source": [
    "![](https://s2.loli.net/2023/02/27/iWCndVprFhuI1mg.png)"
   ]
  },
  {
   "cell_type": "markdown",
   "id": "bbcd50e6",
   "metadata": {},
   "source": [
    "#### 3.7 Ignore the useless zero:"
   ]
  },
  {
   "cell_type": "markdown",
   "id": "fef00e98",
   "metadata": {},
   "source": [
    "Input number 1: 000123  \n",
    "Input number 2: 00000000000002  \n",
    "Output number: 246"
   ]
  },
  {
   "cell_type": "markdown",
   "id": "ce75f48d",
   "metadata": {},
   "source": [
    "![](https://s2.loli.net/2023/02/27/QMx6sCb7Rg8AzLX.png)"
   ]
  },
  {
   "cell_type": "markdown",
   "id": "f3f26552",
   "metadata": {},
   "source": [
    "#### 3.8 Scientific notation of Two Integers:"
   ]
  },
  {
   "cell_type": "markdown",
   "id": "b332cdc7",
   "metadata": {},
   "source": [
    "Input number 1: 1314E520   \n",
    "Input number 2: 886E233    \n",
    "Output number: 1164204E753"
   ]
  },
  {
   "cell_type": "markdown",
   "id": "b0344e60",
   "metadata": {},
   "source": [
    "![](https://s2.loli.net/2023/03/04/EmUKhar8yILe5RH.png)"
   ]
  },
  {
   "cell_type": "markdown",
   "id": "f5fd5db7",
   "metadata": {},
   "source": [
    "#### 3.9 Scientific notation of Two Decimals:"
   ]
  },
  {
   "cell_type": "markdown",
   "id": "34e36082",
   "metadata": {},
   "source": [
    "Input number 1: 1.33E200   \n",
    "Input number 2: 2.4E233    \n",
    "Output number: 3.192E433"
   ]
  },
  {
   "cell_type": "markdown",
   "id": "3b861770",
   "metadata": {},
   "source": [
    "![](https://s2.loli.net/2023/03/04/vL3dguWn8GOx4wk.png)"
   ]
  },
  {
   "cell_type": "markdown",
   "id": "5aba50a5",
   "metadata": {},
   "source": [
    "### 4.Verification of division:"
   ]
  },
  {
   "cell_type": "markdown",
   "id": "3f207460",
   "metadata": {},
   "source": [
    "At the beginning of the file, I marked `# define PRECISION 5`, which represents the division operation and retains five decimal places. If you want to change the number of valid digits, you only need to change `PRECISION`."
   ]
  },
  {
   "cell_type": "markdown",
   "id": "780ac784",
   "metadata": {},
   "source": [
    "#### 4.1 Two integers within the int range:"
   ]
  },
  {
   "cell_type": "markdown",
   "id": "4edfba54",
   "metadata": {},
   "source": [
    "Input number 1: 12345   \n",
    "Input number 2: 123  \n",
    "Output number: 100.36585"
   ]
  },
  {
   "cell_type": "markdown",
   "id": "a102cc5f",
   "metadata": {},
   "source": [
    "![](https://s2.loli.net/2023/02/27/nXIZW4MSYLdmTPU.png)"
   ]
  },
  {
   "cell_type": "markdown",
   "id": "081d11d9",
   "metadata": {},
   "source": [
    "#### 4.2 Two integers outside the int range:"
   ]
  },
  {
   "cell_type": "markdown",
   "id": "a894ffd5",
   "metadata": {},
   "source": [
    "Input number 1: 123451145141919810   \n",
    "Input number 2: 1236677889901  \n",
    "Output number: 99824.81788"
   ]
  },
  {
   "cell_type": "markdown",
   "id": "fde43a55",
   "metadata": {},
   "source": [
    "![](https://s2.loli.net/2023/02/27/TzfF9PNiBpweZ8q.png)"
   ]
  },
  {
   "cell_type": "markdown",
   "id": "320f92ce",
   "metadata": {},
   "source": [
    "#### 4.3 Two decimals with the same symbol:"
   ]
  },
  {
   "cell_type": "markdown",
   "id": "b5b0d20a",
   "metadata": {},
   "source": [
    "Input number 1: 12345.1234567   \n",
    "Input number 2: 123.1234  \n",
    "Output number: 100.26626"
   ]
  },
  {
   "cell_type": "markdown",
   "id": "cddcf932",
   "metadata": {},
   "source": [
    "![](https://s2.loli.net/2023/02/27/COkvn8RT1aUNelx.png)"
   ]
  },
  {
   "cell_type": "markdown",
   "id": "1ba85704",
   "metadata": {},
   "source": [
    "#### 4.4 Two decimals with different symbols:"
   ]
  },
  {
   "cell_type": "markdown",
   "id": "d4fdaf87",
   "metadata": {},
   "source": [
    "Input number 1: -111.123  \n",
    "Input number 2: 123.4  \n",
    "Output number: -0.90051"
   ]
  },
  {
   "cell_type": "markdown",
   "id": "420e4fd0",
   "metadata": {},
   "source": [
    "![](https://s2.loli.net/2023/02/27/bxR2aO1L9WFs3eG.png)"
   ]
  },
  {
   "cell_type": "markdown",
   "id": "842a2a57",
   "metadata": {},
   "source": [
    "#### 4.5 Two integers that are both negative:"
   ]
  },
  {
   "cell_type": "markdown",
   "id": "f8bfab06",
   "metadata": {},
   "source": [
    "Input number 1: -12423423  \n",
    "Input number 2: -3123  \n",
    "Output number: 3978.04130"
   ]
  },
  {
   "cell_type": "markdown",
   "id": "fc9a1064",
   "metadata": {},
   "source": [
    "![](https://s2.loli.net/2023/02/27/YjAZv8sUdLCnuPN.png)"
   ]
  },
  {
   "cell_type": "markdown",
   "id": "85bbcc13",
   "metadata": {},
   "source": [
    "#### 4.6 The number is divided by zero:"
   ]
  },
  {
   "cell_type": "markdown",
   "id": "6b8b6878",
   "metadata": {},
   "source": [
    "Input number 1: -12423423   \n",
    "Input number 2: 0   \n",
    "Output number: NAN (A number cannot be divied by zero.)"
   ]
  },
  {
   "cell_type": "markdown",
   "id": "1698df79",
   "metadata": {},
   "source": [
    "![](https://s2.loli.net/2023/02/27/uafiYgp1jwKQck3.png)"
   ]
  },
  {
   "cell_type": "markdown",
   "id": "347e981d",
   "metadata": {},
   "source": [
    "### 5.Verification of illegal input:"
   ]
  },
  {
   "cell_type": "markdown",
   "id": "d32015d7",
   "metadata": {},
   "source": [
    "In this section, I will list some possible input problems, and show the error reporting results of the calculator and subsequent processing."
   ]
  },
  {
   "cell_type": "markdown",
   "id": "2a5131ab",
   "metadata": {},
   "source": [
    "#### 5.1 There are not four parameters:"
   ]
  },
  {
   "cell_type": "markdown",
   "id": "4fa7c5c4",
   "metadata": {},
   "source": [
    "input: 1 +"
   ]
  },
  {
   "cell_type": "markdown",
   "id": "1fd009eb",
   "metadata": {},
   "source": [
    "![](https://s2.loli.net/2023/02/27/CDVW7NO8zUhBLlj.png)"
   ]
  },
  {
   "cell_type": "markdown",
   "id": "daf8e0e9",
   "metadata": {},
   "source": [
    "#### 5.2 The input parameters are not all numbers:"
   ]
  },
  {
   "cell_type": "markdown",
   "id": "06efa025",
   "metadata": {},
   "source": [
    "input: 12dd + 123"
   ]
  },
  {
   "cell_type": "markdown",
   "id": "c1f3e0f2",
   "metadata": {},
   "source": [
    "![](https://s2.loli.net/2023/02/27/OI83Bsv97hXzYqE.png)"
   ]
  },
  {
   "cell_type": "markdown",
   "id": "c57e7e0c",
   "metadata": {},
   "source": [
    "#### 5.3 There are more than one decimal point in the input:"
   ]
  },
  {
   "cell_type": "markdown",
   "id": "7546690d",
   "metadata": {},
   "source": [
    "input: 1.314.23 + 1.314"
   ]
  },
  {
   "cell_type": "markdown",
   "id": "4adbd53f",
   "metadata": {},
   "source": [
    "![](https://s2.loli.net/2023/03/04/Cs2KTYcldw5xVnt.png)"
   ]
  },
  {
   "cell_type": "markdown",
   "id": "3f204d46",
   "metadata": {},
   "source": [
    "## Part III: Difficulties encountered and solutions:"
   ]
  },
  {
   "cell_type": "markdown",
   "id": "822e934d",
   "metadata": {},
   "source": [
    "In this part, I will list some difficulties I encountered in writing and corresponding solutions. I will also explain some highlights I think I have."
   ]
  },
  {
   "cell_type": "markdown",
   "id": "b78b6b20",
   "metadata": {},
   "source": [
    "* __Q1. A quick and readable way to judge the T/F?__"
   ]
  },
  {
   "cell_type": "markdown",
   "id": "c4e98857",
   "metadata": {},
   "source": [
    "> __A1.__ \n",
    ">\n",
    ">There are no Boolean types in the C language. So, at the beginning of the file, I defined the boolean type with `# define bool int`, and defined the true and false with `# define true 1` and `# define false 0`."
   ]
  },
  {
   "cell_type": "markdown",
   "id": "fe5c0a28",
   "metadata": {},
   "source": [
    "* __Q2. How can users re-enter directly when the input is incorrect?__"
   ]
  },
  {
   "cell_type": "markdown",
   "id": "6c7a5b8d",
   "metadata": {},
   "source": [
    "> __A2.__ \n",
    ">\n",
    ">I had a lot of trouble because I didn't know how to interact with the `char * argv []` parameter received by the main function. With the help >of chatgpt, I used `fgets ()` and `sscanf ()`, two functions used for string operations in the C language standard library.\n",
    ">\n",
    "> The `fgets ()` function is an input function that reads a line of string from the specified input stream and stores it in a specified buffer. The `sscanf()` function can parse the specified format from a string and store the parsed data in the specified variable. The combination of the two can avoid the buffer overflow problem that may occur when using `scanf ()`, and can also avoid the problem that the program crashes or enters an endless loop because the user input does not conform to the expected format.\n",
    ">\n",
    ">With their help, I use a `while (1)` loop to force the user to input parameters continuously until the input is correct."
   ]
  },
  {
   "cell_type": "markdown",
   "id": "f1a6672c",
   "metadata": {},
   "source": [
    "* __Q3. How to deal with the `-`(minus sign) in the input numbers?__"
   ]
  },
  {
   "cell_type": "markdown",
   "id": "f30f37d1",
   "metadata": {},
   "source": [
    "> __A3.__ \n",
    ">\n",
    ">I choose to add a Boolean type identifier, and finally make a judgment based on it, and then remove the minus sign. \n",
    ">\n",
    ">As for removing the minus sign, at the beginning, I thought it would take O (n) time to replace it with a for loop such as `num [i]=num [i+1]`. After learning the characteristics of pointers, I learned that the pointer of `char * num` points to the address value of `num [0]` of the array. So what i need to do is just let `num++`, which will let the pointer start with `num [1]` and discard `num [0]`, which only takes O (1) time. In the process of removing the first '0' in the later division operation, I also took advantage of this feature of C."
   ]
  },
  {
   "cell_type": "markdown",
   "id": "3ea8fde4",
   "metadata": {},
   "source": [
    "* __Q4. How to deal with the decimal numbers and the `.`(decimal point) ?__"
   ]
  },
  {
   "cell_type": "markdown",
   "id": "1187e24f",
   "metadata": {},
   "source": [
    "> __A4.__ \n",
    ">\n",
    ">When reading numbers, I first count the decimal places of each number(using `decimal1` and `decimal2` to record), and then remove the decimal points. Next, the discussion can be divided into three situations:\n",
    ">\n",
    ">For addition and subtraction, if `decimals1` and `decimals2` are not equal, add `abs (decimals1 – decimals2)` zeros to the smaller one. After completion, in order to stop the char array in the correct place, the `\\0` terminator should be added at the end of the array.\n",
    ">\n",
    ">For multiplication, just output a decimal point when `i == realLen1 - len2 + 1` at the final output result (for special cases such as 0.00..., it can be discussed separately).\n",
    ">\n",
    ">For division, I output a decimal point when `i==strlen (result) - PRECISION - (decimals1 - decimals2)` and start timing. When `count = PRECISION` (that is, the `PRECISION` decimal places have been reserved), the output will be stopped (even if the result is followed by some numbers)."
   ]
  },
  {
   "cell_type": "markdown",
   "id": "33ac2a16",
   "metadata": {},
   "source": [
    "* __Q5. How to cope with the division operation?__"
   ]
  },
  {
   "cell_type": "markdown",
   "id": "4fac1ee3",
   "metadata": {},
   "source": [
    "> __A5.__ \n",
    ">\n",
    ">Division should be the most difficult part (for me). Here I want to elaborate my key ideas.\n",
    ">\n",
    ">First, after the divisor `num1`, add `PRECISION` zeroes, and then start the cycle. \n",
    ">\n",
    ">After that, let the length of the divisor `num2` be `len2`, take the first `len2` bits of the divisor `num1`, and compare the size. If the divisor is large, keep decreasing until it is smaller than `num2`. If the dividend is small, take the first `len2 + 1` bits of the dividend `num1` and subtract. The method of subtraction is: if `num1 [j]` is greater than `num2 [i]`, the two numbers are directly subtracted (and plus `0`). Otherwise, let `num1 [j]+10` and borrow forward (go into a loop at first, as long as the previous number is `0`, let it be equal to `9`, and continue to borrow forward until it is not `0`. Then, directly subtract the current number by one). \n",
    ">\n",
    ">Finally, when outputting the final result, first judge the size of the original `num1` and `num2` again. If `num1` is small, then directly output `0.` and then output the first-five numbers in the result. Otherwise, the decimal point is output according to __Q4__."
   ]
  },
  {
   "cell_type": "markdown",
   "id": "974f6413",
   "metadata": {},
   "source": [
    "* __Q6. Why to choose keyword \"inline\"?__"
   ]
  },
  {
   "cell_type": "markdown",
   "id": "421eef62",
   "metadata": {},
   "source": [
    "> __A6.__ \n",
    ">\n",
    ">In C language, the keyword `inline` is used to prompt the compiler to optimize some functions inline. `inline` expansion refers to embedding the code of the function call directly into the calling function, rather than executing the code by jumping into the function body. Using the `inline` keyword can make the program more efficient at runtime because it avoids the overhead of function calls.\n",
    ">\n",
    ">In my source code, I have added `inline` in front of the function `isNegative(char* num)` and `realLen(char* num)` because they are just two very simple and short functions, and maybe will be executed for many times. \n",
    ">\n",
    ">PS: `inline` keyword only gives the compilor a suggestion. The compilor will execute the code based on the real situation.\n",
    ">\n",
    ">PPSS: __About why to not use macros:__ though there is not a cost of a function call, there may be some awkward and unexpected results due to it just simply replaces the orginal code."
   ]
  },
  {
   "cell_type": "markdown",
   "id": "d8ebc78d",
   "metadata": {},
   "source": [
    "* __Q7. How to deal with the scientific notation?__"
   ]
  },
  {
   "cell_type": "markdown",
   "id": "bdba71ac",
   "metadata": {},
   "source": [
    "> __A7.__ \n",
    ">\n",
    ">I deal with scientific notation in this way:\n",
    ">\n",
    ">When judging whether the number is legal, if the letter \"E\" appears, I will use `strcpy()` to copy all the numbers after \"E\" to `sci_notation`, and change the value of the position of \"E\" to `\\0` (at the same time, if other illegal characters appear in the process, exit directly and report an error). When judging the number of decimal places, if \"E\" is found after the decimal point, only move the latter one to the previous one without increasing the value of `decimals`.\n",
    ">\n",
    ">For multiplication and division, I will operate the previous numbers normally, and ouput the value of `sci_notation1` + `sci_notation2` directly.\n",
    ">\n",
    ">For addition and subtraction, (I default that the scientific counting digits of the two will not differ too much, otherwise it will lose its practical significance), I take `abs(sci_notation1 - sci_notation2)` and add it to the smaller one, and add this value to the decimals of the smaller one. Finally, after the normal operation of the previous part, output a \"E\" and the larger value of `sci_notation`."
   ]
  },
  {
   "cell_type": "markdown",
   "id": "173f5dbf",
   "metadata": {},
   "source": [
    "## Part IV: Shortcomings & Improvements:"
   ]
  },
  {
   "cell_type": "markdown",
   "id": "af0ecb3f",
   "metadata": {},
   "source": [
    "* I still have many common factors that can be extracted from the four methods. In the subsequent improvements, I should extract some common methods to reduce code redundancy, facilitate calls, and improve the overall viewing."
   ]
  },
  {
   "cell_type": "markdown",
   "id": "9835ac37",
   "metadata": {},
   "source": [
    "* Some of my variable definitions are too cumbersome and should be reducible."
   ]
  },
  {
   "cell_type": "markdown",
   "id": "eeab5597",
   "metadata": {},
   "source": [
    "* The processing of Scientific notation is still not perfect (the previous redundant digits are not converted into digits in Scientific notation) "
   ]
  },
  {
   "cell_type": "markdown",
   "id": "a36413c1",
   "metadata": {},
   "source": [
    "* It will be better to add special support for symbols such as `Π` and `e` (that is, when they are read, they are automatically converted into numbers)"
   ]
  },
  {
   "cell_type": "markdown",
   "id": "894f97ce",
   "metadata": {},
   "source": [
    "* waiting to be discovered)"
   ]
  },
  {
   "cell_type": "markdown",
   "id": "bdca9125",
   "metadata": {},
   "source": [
    "## Part V: Impressions & Thanks:"
   ]
  },
  {
   "cell_type": "markdown",
   "id": "25689780",
   "metadata": {},
   "source": [
    "This project really took me a lot of time (it is estimated that the total completion time is about 25 hours), which gave me a little C shock. On the one hand, I am not proficient in C language (such as the use of pointers and arrays), ~~and on the other hand, the task load maybe too bigggg~~. \n",
    "\n",
    "But I think I have gained a lot. I hope I can make further efforts in the next few projects to optimize the code and improve the readability of the code."
   ]
  },
  {
   "cell_type": "markdown",
   "id": "75c924b5",
   "metadata": {},
   "source": [
    "* __Thanks to__:"
   ]
  },
  {
   "cell_type": "markdown",
   "id": "0deb9935",
   "metadata": {},
   "source": [
    "* chatGPT"
   ]
  },
  {
   "cell_type": "markdown",
   "id": "49d87a73",
   "metadata": {},
   "source": [
    "* Teacher Yu's Bilibili Chinese online class"
   ]
  },
  {
   "cell_type": "markdown",
   "id": "5ed9b3a7",
   "metadata": {},
   "source": [
    "* StackOverFlow & CSDN & ..."
   ]
  }
 ],
 "metadata": {
  "kernelspec": {
   "display_name": "Python 3 (ipykernel)",
   "language": "python",
   "name": "python3"
  },
  "language_info": {
   "codemirror_mode": {
    "name": "ipython",
    "version": 3
   },
   "file_extension": ".py",
   "mimetype": "text/x-python",
   "name": "python",
   "nbconvert_exporter": "python",
   "pygments_lexer": "ipython3",
   "version": "3.9.12"
  }
 },
 "nbformat": 4,
 "nbformat_minor": 5
}
