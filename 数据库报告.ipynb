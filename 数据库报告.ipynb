{
 "cells": [
  {
   "cell_type": "markdown",
   "id": "77163247",
   "metadata": {},
   "source": [
    "# 数据库ProjectII报告"
   ]
  },
  {
   "cell_type": "markdown",
   "id": "6848ceac",
   "metadata": {},
   "source": [
    "#####  组员：12112510李涵 12112518盛鹏 \n",
    "#####  指导老师：程然 王维语 \n"
   ]
  },
  {
   "cell_type": "markdown",
   "id": "da48e5ef",
   "metadata": {},
   "source": [
    "[top](ddd)"
   ]
  },
  {
   "cell_type": "code",
   "execution_count": null,
   "id": "abedbf9b",
   "metadata": {},
   "outputs": [],
   "source": []
  }
 ],
 "metadata": {
  "kernelspec": {
   "display_name": "Python 3 (ipykernel)",
   "language": "python",
   "name": "python3"
  },
  "language_info": {
   "codemirror_mode": {
    "name": "ipython",
    "version": 3
   },
   "file_extension": ".py",
   "mimetype": "text/x-python",
   "name": "python",
   "nbconvert_exporter": "python",
   "pygments_lexer": "ipython3",
   "version": "3.10.4"
  }
 },
 "nbformat": 4,
 "nbformat_minor": 5
}
